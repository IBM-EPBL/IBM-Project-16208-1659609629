{
  "nbformat": 4,
  "nbformat_minor": 0,
  "metadata": {
    "colab": {
      "provenance": []
    },
    "kernelspec": {
      "name": "python3",
      "display_name": "Python 3"
    },
    "language_info": {
      "name": "python"
    }
  },
  "cells": [
    {
      "cell_type": "code",
      "execution_count": null,
      "metadata": {
        "id": "myiEtmU_IPA_"
      },
      "outputs": [],
      "source": [
        "import numpy as np\n",
        "from flask import Flask, render_template, request, redirect, jsonify\n",
        "from markupsafe import escape\n",
        "\n",
        "import inputScript  \n",
        "import requests\n",
        "\n",
        "app = Flask(__name__)\n",
        "\n",
        "API_KEY = \"JilW5zLzltmxGM00oOUA9alK1O5X-915tssbaLcLn2tE\"\n",
        "token_response = requests.post('https://iam.cloud.ibm.com/identity/token', data={\"apikey\":API_KEY, \"grant_type\": 'urn:ibm:params:oauth:grant-type:apikey'})\n",
        "mltoken = token_response.json()[\"access_token\"]\n",
        "header = {'Content-Type': 'application/json', 'Authorization': 'Bearer ' + mltoken}\n",
        "\n",
        "\n",
        "\n",
        "@app.route('/')\n",
        "def predict():\n",
        "    return render_template(\"final2.html\")\n",
        "\n",
        "\n",
        "@app.route('/predict',methods=[\"POST\"])\n",
        "def y_predict():\n",
        "    url = request.form['url']\n",
        "    check_predic = inputScript.main(url)\n",
        "    \n",
        "    payload_scoring = {\"input_data\": [{\"field\": [[\"f0\",\"f1\",\"f2\",\"f3\",\"f4\",\"f5\",\"f6\",\"f7\",\"f8\",\"f9\",\"f10\",\"f11\",\"f12\",\"f13\",\"f14\",\"f15\",\"f16\",\"f17\",\"f18\",\"f19\",\"f20\",\"f21\",\"f22\",\"f23\",\"f24\",\"f25\",\"f26\",\"f27\",\"f28\",\"f29\"]], \"values\": check_predic}]}\n",
        "\n",
        "    response_scoring = requests.post('https://us-south.ml.cloud.ibm.com/ml/v4/deployments/e9cb62f7-175a-47e1-ab52-d5f3021adbfe/predictions?version=2022-11-15', json=payload_scoring, headers={'Authorization': 'Bearer ' + mltoken})\n",
        "    \n",
        "    prediction=(response_scoring.json())\n",
        "    \n",
        "\n",
        "   \n",
        "    predic=prediction['predictions'][0]['values'][0][0]\n",
        "\n",
        "    \n",
        "    if(predic==-1):\n",
        "        pred = \"You are safe!! This is a Legimate Website :)\"\n",
        "    elif(predic==1):\n",
        "        pred = \"You are in a phishing site. Dont Trust :(\"\n",
        "    else:\n",
        "        pred = \"You are in a suspecious site. Be Cautious ;(\"\n",
        "\n",
        "    return render_template(\"final2.html\", pred_text = '{}'.format(pred), url = url)\n",
        "\n",
        "\n",
        "\"\"\"@app.route('/predict_api', methods = ['POST'])\n",
        "def predict_api():\n",
        "\n",
        "    data = request.get_json(force = True)\n",
        "    predic = model.y_predict([np.array(list(data.values()))])\n",
        "    result = predic[0]\n",
        "    return jsonify(result)\"\"\"\n",
        "\n",
        "if __name__ == \"__main__\":\n",
        "    app.run(host = '0.0.0.0', debug=True)\n"
      ]
    }
  ]
}