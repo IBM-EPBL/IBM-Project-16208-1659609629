{
  "nbformat": 4,
  "nbformat_minor": 0,
  "metadata": {
    "colab": {
      "provenance": []
    },
    "kernelspec": {
      "name": "python3",
      "display_name": "Python 3"
    },
    "language_info": {
      "name": "python"
    }
  },
  "cells": [
    {
      "cell_type": "code",
      "execution_count": null,
      "metadata": {
        "id": "myiEtmU_IPA_"
      },
      "outputs": [],
      "source": [
        "# NOTE: you must set $API_KEY below using information retrieved from your IBM Cloud account.\n",
        "\n",
        "curl --insecure -X POST --header \"Content-Type: application/x-www-form-urlencoded\" --header \"Accept: application/json\"\n",
        " --data-urlencode \"grant_type=urn:ibm:params:oauth:grant-type:apikey\"\n",
        "  --data-urlencode \"apikey=$API_KEY\" \"https://iam.cloud.ibm.com/identity/token\"\n",
        "\n",
        "# the above CURL request will return an auth token that you will use as $IAM_TOKEN in the scoring request below\n",
        "# TODO: manually define and pass values to be scored below\n",
        "curl -X POST --header \"Content-Type: application/json\" --header \"Accept: application/json\" --header \"Authorization:\n",
        " Bearer $IAM_TOKEN\" -d '{\"input_data\": [{\"fields\": [$ARRAY_OF_INPUT_FIELDS],\"values\": [$ARRAY_OF_VALUES_TO_BE_SCORED,\n",
        "\t $ANOTHER_ARRAY_OF_VALUES_TO_BE_SCORED]}]}' \"https://us-south.ml.cloud.ibm.com/ml/v4/deployments/e9cb62f7-175a-47e1-ab52-d5f3021adbfe/predictions?version=2022-11-15\"\n"
      ]
    }
  ]
}